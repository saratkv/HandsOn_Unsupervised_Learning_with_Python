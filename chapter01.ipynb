{
  "nbformat": 4,
  "nbformat_minor": 0,
  "metadata": {
    "colab": {
      "name": "HandsOn-Unsupervised-Learning-with-Python_Chapter01.ipynb",
      "version": "0.3.2",
      "provenance": [],
      "include_colab_link": true
    },
    "kernelspec": {
      "name": "python3",
      "display_name": "Python 3"
    }
  },
  "cells": [
    {
      "cell_type": "markdown",
      "metadata": {
        "id": "view-in-github",
        "colab_type": "text"
      },
      "source": [
        "<a href=\"https://colab.research.google.com/github/saratkv/HandsOn_Unsupervised_Learning_with_Python/blob/master/chapter01.ipynb\" target=\"_parent\"><img src=\"https://colab.research.google.com/assets/colab-badge.svg\" alt=\"Open In Colab\"/></a>"
      ]
    },
    {
      "cell_type": "code",
      "metadata": {
        "id": "NE8UyN95b8Ov",
        "colab_type": "code",
        "colab": {}
      },
      "source": [
        "import numpy as np\n",
        "import pandas as pd\n",
        "\n",
        "import matplotlib.pyplot as plt\n",
        "import seaborn as sns\n",
        "\n",
        "from sklearn.linear_model import LinearRegression\n",
        "\n",
        "# For reproducibility\n",
        "np.random.seed(1000)\n",
        "\n",
        "\n",
        "if __name__ == '__main__':\n",
        "    # Create the dataset\n",
        "    T = np.expand_dims(np.linspace(0.0, 10.0, num=100), axis=1)\n",
        "    \n",
        "    X = (T * np.random.uniform(1.0, 1.5, size=(100, 1))) + np.random.normal(0.0, 3.5, size=(100, 1))\n",
        "\n",
        "    df = pd.DataFrame(np.concatenate([T, X], axis=1), columns=['t', 'x'])\n",
        "    print(df)\n",
        "    # Perform the linear regression\n",
        "    lr = LinearRegression(n_jobs=10)\n",
        "    lr.fit(T, X)\n",
        "\n",
        "    # Print the equation\n",
        "    print('x(t) = {0:.3f}t + {1:.3f}'.format(lr.coef_[0][0], lr.intercept_[0]))\n",
        "\n",
        "    # Show the diagram\n",
        "    sns.set(style=\"whitegrid\", palette=\"Accent_r\", color_codes=True)\n",
        "    ax = sns.lmplot(data=df, x='t', y='x', height=8)\n",
        "    plt.show()\n",
        "    "
      ],
      "execution_count": 0,
      "outputs": []
    }
  ]
}