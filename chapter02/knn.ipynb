{
  "nbformat": 4,
  "nbformat_minor": 0,
  "metadata": {
    "colab": {
      "name": "Untitled1.ipynb",
      "version": "0.3.2",
      "provenance": [],
      "collapsed_sections": [],
      "include_colab_link": true
    },
    "kernelspec": {
      "name": "python3",
      "display_name": "Python 3"
    }
  },
  "cells": [
    {
      "cell_type": "markdown",
      "metadata": {
        "id": "view-in-github",
        "colab_type": "text"
      },
      "source": [
        "<a href=\"https://colab.research.google.com/github/saratkv/HandsOn_Unsupervised_Learning_with_Python/blob/master/chapter02/knn.ipynb\" target=\"_parent\"><img src=\"https://colab.research.google.com/assets/colab-badge.svg\" alt=\"Open In Colab\"/></a>"
      ]
    },
    {
      "cell_type": "code",
      "metadata": {
        "id": "ivaMYlqcQFcg",
        "colab_type": "code",
        "colab": {}
      },
      "source": [
        "import numpy as np\n",
        "\n",
        "import matplotlib.pyplot as plt\n",
        "import seaborn as sns\n",
        "\n",
        "from sklearn.datasets import fetch_olivetti_faces\n",
        "from sklearn.neighbors import NearestNeighbors\n",
        "\n",
        "\n",
        "# For reproducibility\n",
        "np.random.seed(1000)\n",
        "\n",
        "\n",
        "if __name__ == '__main__':\n",
        "    # Load the dataset\n",
        "    faces = fetch_olivetti_faces()\n",
        "    X = faces['data']\n",
        "\n",
        "    # Create and fit the model\n",
        "    knn = NearestNeighbors(n_neighbors=10, metric='minkowski', p=2, radius=20.0, algorithm='ball_tree')\n",
        "    knn.fit(X)\n",
        "\n",
        "    # Test face\n",
        "    i = 20\n",
        "    test_face = X[i] + np.random.normal(0.0, 0.1, size=(X[0].shape[0]))\n",
        "\n",
        "    # Show the test face\n",
        "    sns.set()\n",
        "\n",
        "    fig, ax = plt.subplots(figsize=(5, 3))\n",
        "\n",
        "    ax.imshow(test_face.reshape((64, 64)) * 255.0, cmap='gray')\n",
        "    ax.grid(False)\n",
        "    ax.set_xticks([])\n",
        "    ax.set_yticks([])\n",
        "\n",
        "    plt.show()\n",
        "\n",
        "    # Compute and show the top 10 neighbors\n",
        "    distances, neighbors = knn.kneighbors(test_face.reshape(1, -1))\n",
        "\n",
        "    fig, ax = plt.subplots(1, 10, figsize=(18, 8))\n",
        "\n",
        "    for i in range(10):\n",
        "        idx = neighbors[0][i]\n",
        "        ax[i].imshow(X[idx].reshape((64, 64)) * 255.0, cmap='gray')\n",
        "        ax[i].grid(False)\n",
        "        ax[i].set_xticks([])\n",
        "        ax[i].set_yticks([])\n",
        "        ax[i].set_xlabel('d={0:.2f}'.format(distances[0][i]))\n",
        "\n",
        "    plt.show()\n",
        "\n",
        "    # Compute and show the nearest 20 neighbors within a radius = 100\n",
        "    distances, neighbors = knn.radius_neighbors(test_face.reshape(1, -1), radius=3.0)\n",
        "    sd, sd_arg = np.sort(distances[0]), np.argsort(distances[0])\n",
        "\n",
        "    fig, ax = plt.subplots(2, 10, figsize=(18, 4))\n",
        "\n",
        "    for i in range(2):\n",
        "        for j in range(10):\n",
        "            idx = neighbors[0][sd_arg[(i * 10) + j]]\n",
        "            ax[i, j].imshow(X[idx].reshape((64, 64)) * 255.0, cmap='gray')\n",
        "            ax[i, j].grid(False)\n",
        "            ax[i, j].set_xticks([])\n",
        "            ax[i, j].set_yticks([])\n",
        "            ax[i, j].set_xlabel('d={0:.2f}'.format(sd[(i * 10) + j]))\n",
        "\n",
        "    plt.show()"
      ],
      "execution_count": 0,
      "outputs": []
    }
  ]
}